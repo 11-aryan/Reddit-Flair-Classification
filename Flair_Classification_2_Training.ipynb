{
 "cells": [
  {
   "cell_type": "code",
   "execution_count": 23,
   "metadata": {},
   "outputs": [],
   "source": [
    "import praw\n",
    "import pandas as pd\n",
    "import numpy as np\n",
    "from collections import defaultdict\n",
    "import matplotlib.pyplot as plt\n",
    "from pprint import pprint"
   ]
  },
  {
   "cell_type": "code",
   "execution_count": 4,
   "metadata": {},
   "outputs": [],
   "source": [
    "#Loading the data that was generated in the previous notebook\n",
    "df = pd.read_csv('final_data2.csv')\n",
    "df_original_copy = df"
   ]
  },
  {
   "cell_type": "code",
   "execution_count": 5,
   "metadata": {},
   "outputs": [
    {
     "data": {
      "text/html": [
       "<div>\n",
       "<style scoped>\n",
       "    .dataframe tbody tr th:only-of-type {\n",
       "        vertical-align: middle;\n",
       "    }\n",
       "\n",
       "    .dataframe tbody tr th {\n",
       "        vertical-align: top;\n",
       "    }\n",
       "\n",
       "    .dataframe thead th {\n",
       "        text-align: right;\n",
       "    }\n",
       "</style>\n",
       "<table border=\"1\" class=\"dataframe\">\n",
       "  <thead>\n",
       "    <tr style=\"text-align: right;\">\n",
       "      <th></th>\n",
       "      <th>flair</th>\n",
       "      <th>title</th>\n",
       "      <th>url</th>\n",
       "      <th>text</th>\n",
       "      <th>score</th>\n",
       "      <th>num_comments</th>\n",
       "      <th>original</th>\n",
       "      <th>comments</th>\n",
       "      <th>polarity</th>\n",
       "    </tr>\n",
       "  </thead>\n",
       "  <tbody>\n",
       "    <tr>\n",
       "      <th>0</th>\n",
       "      <td>0</td>\n",
       "      <td>Ethereum Fees Now at July 2021 Lows of $2.54 -...</td>\n",
       "      <td>https://cryptonewsland.com/ethereum-fees-now-a...</td>\n",
       "      <td>NaN</td>\n",
       "      <td>21</td>\n",
       "      <td>14</td>\n",
       "      <td>False</td>\n",
       "      <td>Ethereum [pros](/r/CryptoMarkets/comments/ux7...</td>\n",
       "      <td>0.9497</td>\n",
       "    </tr>\n",
       "    <tr>\n",
       "      <th>1</th>\n",
       "      <td>0</td>\n",
       "      <td>Coinbase CEO’s Response to Employee Rant Backf...</td>\n",
       "      <td>https://cryptonewsland.com/coinbase-ceos-respo...</td>\n",
       "      <td>NaN</td>\n",
       "      <td>4</td>\n",
       "      <td>7</td>\n",
       "      <td>False</td>\n",
       "      <td>USDC [pros](/r/CryptoMarkets/comments/v9izys/...</td>\n",
       "      <td>-0.4404</td>\n",
       "    </tr>\n",
       "    <tr>\n",
       "      <th>2</th>\n",
       "      <td>0</td>\n",
       "      <td>Mars4 Metaverse is Selling Fast in Japan – Spo...</td>\n",
       "      <td>https://news.bitcoin.com/mars4-metaverse-is-se...</td>\n",
       "      <td>NaN</td>\n",
       "      <td>2</td>\n",
       "      <td>9</td>\n",
       "      <td>False</td>\n",
       "      <td>Bitcoin [pros](/r/CryptoMarkets/comments/v9vc...</td>\n",
       "      <td>-0.2732</td>\n",
       "    </tr>\n",
       "    <tr>\n",
       "      <th>3</th>\n",
       "      <td>0</td>\n",
       "      <td>Terra Crisis: G-7 Nations Call for Urgent Cryp...</td>\n",
       "      <td>https://crypto.news/terra-g-7-nations-urgent-c...</td>\n",
       "      <td>NaN</td>\n",
       "      <td>14</td>\n",
       "      <td>13</td>\n",
       "      <td>False</td>\n",
       "      <td>Do Kwan screwed us. They were just looking fo...</td>\n",
       "      <td>0.6705</td>\n",
       "    </tr>\n",
       "    <tr>\n",
       "      <th>4</th>\n",
       "      <td>0</td>\n",
       "      <td>White House says the Administration is Closely...</td>\n",
       "      <td>https://www.youtube.com/watch?v=4oSL1gCHFdQ</td>\n",
       "      <td>NaN</td>\n",
       "      <td>0</td>\n",
       "      <td>4</td>\n",
       "      <td>False</td>\n",
       "      <td>Inflation [pros](/r/CryptoMarkets/comments/vd...</td>\n",
       "      <td>0.8979</td>\n",
       "    </tr>\n",
       "  </tbody>\n",
       "</table>\n",
       "</div>"
      ],
      "text/plain": [
       "   flair                                              title  \\\n",
       "0      0  Ethereum Fees Now at July 2021 Lows of $2.54 -...   \n",
       "1      0  Coinbase CEO’s Response to Employee Rant Backf...   \n",
       "2      0  Mars4 Metaverse is Selling Fast in Japan – Spo...   \n",
       "3      0  Terra Crisis: G-7 Nations Call for Urgent Cryp...   \n",
       "4      0  White House says the Administration is Closely...   \n",
       "\n",
       "                                                 url text  score  \\\n",
       "0  https://cryptonewsland.com/ethereum-fees-now-a...  NaN     21   \n",
       "1  https://cryptonewsland.com/coinbase-ceos-respo...  NaN      4   \n",
       "2  https://news.bitcoin.com/mars4-metaverse-is-se...  NaN      2   \n",
       "3  https://crypto.news/terra-g-7-nations-urgent-c...  NaN     14   \n",
       "4        https://www.youtube.com/watch?v=4oSL1gCHFdQ  NaN      0   \n",
       "\n",
       "   num_comments  original                                           comments  \\\n",
       "0            14     False   Ethereum [pros](/r/CryptoMarkets/comments/ux7...   \n",
       "1             7     False   USDC [pros](/r/CryptoMarkets/comments/v9izys/...   \n",
       "2             9     False   Bitcoin [pros](/r/CryptoMarkets/comments/v9vc...   \n",
       "3            13     False   Do Kwan screwed us. They were just looking fo...   \n",
       "4             4     False   Inflation [pros](/r/CryptoMarkets/comments/vd...   \n",
       "\n",
       "   polarity  \n",
       "0    0.9497  \n",
       "1   -0.4404  \n",
       "2   -0.2732  \n",
       "3    0.6705  \n",
       "4    0.8979  "
      ]
     },
     "execution_count": 5,
     "metadata": {},
     "output_type": "execute_result"
    }
   ],
   "source": [
    "df.head()"
   ]
  },
  {
   "cell_type": "code",
   "execution_count": 6,
   "metadata": {},
   "outputs": [
    {
     "data": {
      "text/html": [
       "<div>\n",
       "<style scoped>\n",
       "    .dataframe tbody tr th:only-of-type {\n",
       "        vertical-align: middle;\n",
       "    }\n",
       "\n",
       "    .dataframe tbody tr th {\n",
       "        vertical-align: top;\n",
       "    }\n",
       "\n",
       "    .dataframe thead th {\n",
       "        text-align: right;\n",
       "    }\n",
       "</style>\n",
       "<table border=\"1\" class=\"dataframe\">\n",
       "  <thead>\n",
       "    <tr style=\"text-align: right;\">\n",
       "      <th></th>\n",
       "      <th>flair</th>\n",
       "      <th>score</th>\n",
       "      <th>num_comments</th>\n",
       "      <th>polarity</th>\n",
       "    </tr>\n",
       "  </thead>\n",
       "  <tbody>\n",
       "    <tr>\n",
       "      <th>count</th>\n",
       "      <td>1120.000000</td>\n",
       "      <td>1120.000000</td>\n",
       "      <td>1120.000000</td>\n",
       "      <td>1120.000000</td>\n",
       "    </tr>\n",
       "    <tr>\n",
       "      <th>mean</th>\n",
       "      <td>6.080357</td>\n",
       "      <td>30.849107</td>\n",
       "      <td>30.390179</td>\n",
       "      <td>0.317910</td>\n",
       "    </tr>\n",
       "    <tr>\n",
       "      <th>std</th>\n",
       "      <td>4.022142</td>\n",
       "      <td>91.558395</td>\n",
       "      <td>75.575886</td>\n",
       "      <td>0.529006</td>\n",
       "    </tr>\n",
       "    <tr>\n",
       "      <th>min</th>\n",
       "      <td>0.000000</td>\n",
       "      <td>0.000000</td>\n",
       "      <td>0.000000</td>\n",
       "      <td>-0.997500</td>\n",
       "    </tr>\n",
       "    <tr>\n",
       "      <th>25%</th>\n",
       "      <td>2.000000</td>\n",
       "      <td>1.000000</td>\n",
       "      <td>2.000000</td>\n",
       "      <td>0.000000</td>\n",
       "    </tr>\n",
       "    <tr>\n",
       "      <th>50%</th>\n",
       "      <td>7.000000</td>\n",
       "      <td>4.000000</td>\n",
       "      <td>9.000000</td>\n",
       "      <td>0.000000</td>\n",
       "    </tr>\n",
       "    <tr>\n",
       "      <th>75%</th>\n",
       "      <td>10.000000</td>\n",
       "      <td>19.000000</td>\n",
       "      <td>23.000000</td>\n",
       "      <td>0.897900</td>\n",
       "    </tr>\n",
       "    <tr>\n",
       "      <th>max</th>\n",
       "      <td>12.000000</td>\n",
       "      <td>1242.000000</td>\n",
       "      <td>1139.000000</td>\n",
       "      <td>1.000000</td>\n",
       "    </tr>\n",
       "  </tbody>\n",
       "</table>\n",
       "</div>"
      ],
      "text/plain": [
       "             flair        score  num_comments     polarity\n",
       "count  1120.000000  1120.000000   1120.000000  1120.000000\n",
       "mean      6.080357    30.849107     30.390179     0.317910\n",
       "std       4.022142    91.558395     75.575886     0.529006\n",
       "min       0.000000     0.000000      0.000000    -0.997500\n",
       "25%       2.000000     1.000000      2.000000     0.000000\n",
       "50%       7.000000     4.000000      9.000000     0.000000\n",
       "75%      10.000000    19.000000     23.000000     0.897900\n",
       "max      12.000000  1242.000000   1139.000000     1.000000"
      ]
     },
     "execution_count": 6,
     "metadata": {},
     "output_type": "execute_result"
    }
   ],
   "source": [
    "df.describe()"
   ]
  },
  {
   "cell_type": "code",
   "execution_count": 7,
   "metadata": {},
   "outputs": [
    {
     "data": {
      "text/plain": [
       "flair             0\n",
       "title             0\n",
       "url               0\n",
       "text            703\n",
       "score             0\n",
       "num_comments      0\n",
       "original          0\n",
       "comments        339\n",
       "polarity          0\n",
       "dtype: int64"
      ]
     },
     "execution_count": 7,
     "metadata": {},
     "output_type": "execute_result"
    }
   ],
   "source": [
    "df.isnull().sum()"
   ]
  },
  {
   "cell_type": "code",
   "execution_count": 8,
   "metadata": {},
   "outputs": [
    {
     "data": {
      "text/plain": [
       "0     100\n",
       "1     100\n",
       "2     100\n",
       "3     100\n",
       "4     100\n",
       "7     100\n",
       "8     100\n",
       "9     100\n",
       "10    100\n",
       "11    100\n",
       "12    100\n",
       "5      10\n",
       "6      10\n",
       "Name: flair, dtype: int64"
      ]
     },
     "execution_count": 8,
     "metadata": {},
     "output_type": "execute_result"
    }
   ],
   "source": [
    "df.flair.value_counts()"
   ]
  },
  {
   "cell_type": "code",
   "execution_count": 9,
   "metadata": {},
   "outputs": [
    {
     "data": {
      "image/png": "[encoded data removed]",
      "text/plain": [
       "<Figure size 720x288 with 1 Axes>"
      ]
     },
     "metadata": {
      "needs_background": "light"
     },
     "output_type": "display_data"
    }
   ],
   "source": [
    "plt.figure(figsize=(10,4))\n",
    "df.flair.value_counts().plot(kind='bar', color='#f0afbf');"
   ]
  },
  {
   "cell_type": "code",
   "execution_count": 10,
   "metadata": {},
   "outputs": [],
   "source": [
    "df.drop(df[df['flair'] == 5].index, inplace = True) \n",
    "df.drop(df[df['flair'] == 6].index, inplace = True) "
   ]
  },
  {
   "cell_type": "code",
   "execution_count": 11,
   "metadata": {},
   "outputs": [
    {
     "data": {
      "image/png": "[encoded data removed]",
      "text/plain": [
       "<Figure size 720x288 with 1 Axes>"
      ]
     },
     "metadata": {
      "needs_background": "light"
     },
     "output_type": "display_data"
    }
   ],
   "source": [
    "plt.figure(figsize=(10,4))\n",
    "df.flair.value_counts().plot(kind='bar', color='#f0afbf');"
   ]
  },
  {
   "cell_type": "markdown",
   "metadata": {},
   "source": [
    "# Selecting and Training a Model"
   ]
  },
  {
   "cell_type": "code",
   "execution_count": 12,
   "metadata": {},
   "outputs": [],
   "source": [
    "from sklearn.model_selection import train_test_split\n",
    "from sklearn.pipeline import Pipeline\n",
    "from sklearn.feature_extraction.text import CountVectorizer, TfidfVectorizer\n",
    "from sklearn.feature_extraction.text import TfidfTransformer\n",
    "from sklearn.metrics import accuracy_score, confusion_matrix\n",
    "from sklearn.metrics import classification_report\n",
    "from sklearn.linear_model import LogisticRegression\n",
    "from sklearn.linear_model import SGDClassifier\n",
    "from sklearn.tree import DecisionTreeClassifier \n",
    "from sklearn.ensemble import RandomForestClassifier\n",
    "from sklearn.preprocessing import LabelEncoder"
   ]
  },
  {
   "cell_type": "code",
   "execution_count": 13,
   "metadata": {},
   "outputs": [],
   "source": [
    "X = df.title.values.astype('U')\n",
    "y = df.flair\n",
    "encoder = LabelEncoder()\n",
    "y = encoder.fit_transform(y)\n",
    "\n",
    "X_train, X_test, y_train, y_test = train_test_split(X, y, test_size=0.3, random_state = 11)\n"
   ]
  },
  {
   "cell_type": "code",
   "execution_count": 14,
   "metadata": {},
   "outputs": [
    {
     "name": "stdout",
     "output_type": "stream",
     "text": [
      "Number of samples in  X_train:  (770,)\n",
      "Number of samples in y_train:  (770,)\n",
      "Number of samples in X_test:  (330,)\n",
      "Number of samples in y_test:  (330,)\n"
     ]
    }
   ],
   "source": [
    "print(\"Number of samples in  X_train: \", X_train.shape) \n",
    "print(\"Number of samples in y_train: \", y_train.shape) \n",
    "print(\"Number of samples in X_test: \", X_test.shape) \n",
    "print(\"Number of samples in y_test: \", y_test.shape) "
   ]
  },
  {
   "cell_type": "code",
   "execution_count": 15,
   "metadata": {},
   "outputs": [],
   "source": [
    "from xgboost import XGBClassifier"
   ]
  },
  {
   "cell_type": "code",
   "execution_count": 16,
   "metadata": {},
   "outputs": [],
   "source": [
    "def logistic_reg(X_train, y_train):\n",
    "    logreg = Pipeline([('tfidf', TfidfVectorizer()),\n",
    "                    ('clf', LogisticRegression(n_jobs=1, C=1e5, max_iter=5000)),\n",
    "                   ])\n",
    "    lr = logreg.fit(X_train, y_train)\n",
    "    \n",
    "    return lr\n",
    "\n",
    "\n",
    "def linear_svm(X_train, y_train):\n",
    "    sgd = Pipeline([('tfidf', TfidfVectorizer()),\n",
    "                    ('clf', SGDClassifier(loss='hinge', penalty='l2',alpha=1e-3, random_state=42, max_iter=1000, tol=None)),\n",
    "                   ])\n",
    "    \n",
    "    svm = sgd.fit(X_train, y_train)\n",
    "  \n",
    "    return svm\n",
    "\n",
    "\n",
    "def naive_bayes(X_train, y_train):\n",
    "    from sklearn.naive_bayes import MultinomialNB\n",
    "    from sklearn.pipeline import Pipeline\n",
    "    from sklearn.feature_extraction.text import TfidfTransformer\n",
    "\n",
    "    nb = Pipeline([('tfidf', TfidfVectorizer()),\n",
    "                   ('clf', MultinomialNB()),\n",
    "                  ])\n",
    "    \n",
    "    n = nb.fit(X_train, y_train)\n",
    "\n",
    "    return n\n",
    "\n",
    "\n",
    "def decision_trees(X_train, y_train):\n",
    "    dt = Pipeline([('tfidf', TfidfVectorizer()),\n",
    "                   ('clf', DecisionTreeClassifier()),\n",
    "                  ])\n",
    "    \n",
    "    d = dt.fit(X_train,y_train)\n",
    "    \n",
    "    return d\n",
    "\n",
    "\n",
    "def random_forest(X_train, y_train):\n",
    "    ranfor = Pipeline([('tfidf', TfidfVectorizer()),\n",
    "                  ('clf', RandomForestClassifier(n_estimators = 1000, random_state = 42)),\n",
    "                 ])\n",
    "    \n",
    "    rf = ranfor.fit(X_train, y_train)\n",
    "\n",
    "    return rf\n"
   ]
  },
  {
   "cell_type": "markdown",
   "metadata": {},
   "source": [
    "# Comparing different models"
   ]
  },
  {
   "cell_type": "code",
   "execution_count": 17,
   "metadata": {},
   "outputs": [],
   "source": [
    "data_lr = []\n",
    "data_svm = []\n",
    "data_nb = []\n",
    "data_dt = []\n",
    "data_rf = []\n",
    "\n",
    "for i in range(1,8):\n",
    "    xtr = X_train[0:i*100]\n",
    "    ytr = y_train[0:i*100]\n",
    "    clflr = logistic_reg(xtr, ytr)\n",
    "    clfsvm = linear_svm(xtr, ytr)\n",
    "    clfnb = naive_bayes(xtr, ytr)\n",
    "    clfdt = decision_trees(xtr, ytr)\n",
    "    clfrf = random_forest(xtr, ytr)\n",
    "    \n",
    "    data_lr.append(clflr.score(X_test,y_test))\n",
    "    data_svm.append(clfsvm.score(X_test,y_test))\n",
    "    data_nb.append(clfnb.score(X_test,y_test))\n",
    "    data_dt.append(clfdt.score(X_test, y_test))\n",
    "    data_rf.append(clfrf.score(X_test, y_test))\n"
   ]
  },
  {
   "cell_type": "code",
   "execution_count": 18,
   "metadata": {},
   "outputs": [
    {
     "data": {
      "image/png": "[encoded data removed]",
      "text/plain": [
       "<Figure size 432x288 with 1 Axes>"
      ]
     },
     "metadata": {
      "needs_background": "light"
     },
     "output_type": "display_data"
    }
   ],
   "source": [
    "plt.plot([100,200,300,400,500,600,700],data_lr,color='y')\n",
    "plt.plot([100,200,300,400,500,600,700],data_svm,color='r')\n",
    "plt.plot([100,200,300,400,500,600,700],data_nb,color='g')\n",
    "plt.plot([100,200,300,400,500,600,700],data_dt,color='b')\n",
    "plt.plot([100,200,300,400,500,600,700],data_rf,color='c')\n",
    "plt.gca().legend(('Logistic Regression', 'SVM','Naive Bayes','Decision Trees','Random Forest'))\n",
    "plt.xlabel('No. of Data Points')\n",
    "plt.ylabel('Accuracy')\n",
    "plt.title('Models Trail Summary')\n",
    "plt.show()"
   ]
  },
  {
   "cell_type": "code",
   "execution_count": 19,
   "metadata": {},
   "outputs": [
    {
     "name": "stdout",
     "output_type": "stream",
     "text": [
      "Final Accuracies with 800 data points:\n",
      "Logistic Regression: 0.509090909090909 \n",
      "Support Vector Machine: 0.5060606060606061\n",
      "Naive Bayes: 0.4818181818181818\n",
      "Decision Trees: 0.4909090909090909\n",
      "Random Forest: 0.5242424242424243\n"
     ]
    }
   ],
   "source": [
    "print(\"Final Accuracies with 800 data points:\")\n",
    "print(\"Logistic Regression: {} \".format(data_lr[-1]))\n",
    "print(\"Support Vector Machine: {}\".format(data_svm[-1]))\n",
    "print(\"Naive Bayes: {}\".format(data_nb[-1]))\n",
    "print(\"Decision Trees: {}\".format(data_dt[-1]))\n",
    "print(\"Random Forest: {}\".format(data_rf[-1]))"
   ]
  },
  {
   "cell_type": "markdown",
   "metadata": {},
   "source": [
    "# Training on the whole dataset\n",
    "**Random forests** seem to perform better compared to other models. The *low accuracy* is result of considering a small subset of the dataset. A better accuracy should be obtained after using the whole dataset.\n"
   ]
  },
  {
   "cell_type": "code",
   "execution_count": 25,
   "metadata": {},
   "outputs": [
    {
     "data": {
      "text/html": [
       "<div>\n",
       "<style scoped>\n",
       "    .dataframe tbody tr th:only-of-type {\n",
       "        vertical-align: middle;\n",
       "    }\n",
       "\n",
       "    .dataframe tbody tr th {\n",
       "        vertical-align: top;\n",
       "    }\n",
       "\n",
       "    .dataframe thead th {\n",
       "        text-align: right;\n",
       "    }\n",
       "</style>\n",
       "<table border=\"1\" class=\"dataframe\">\n",
       "  <thead>\n",
       "    <tr style=\"text-align: right;\">\n",
       "      <th></th>\n",
       "      <th>flair</th>\n",
       "      <th>title</th>\n",
       "      <th>url</th>\n",
       "      <th>text</th>\n",
       "      <th>score</th>\n",
       "      <th>num_comments</th>\n",
       "      <th>original</th>\n",
       "      <th>comments</th>\n",
       "      <th>polarity</th>\n",
       "    </tr>\n",
       "  </thead>\n",
       "  <tbody>\n",
       "    <tr>\n",
       "      <th>0</th>\n",
       "      <td>0</td>\n",
       "      <td>Ethereum Fees Now at July 2021 Lows of $2.54 -...</td>\n",
       "      <td>https://cryptonewsland.com/ethereum-fees-now-a...</td>\n",
       "      <td>NaN</td>\n",
       "      <td>21</td>\n",
       "      <td>14</td>\n",
       "      <td>False</td>\n",
       "      <td>Ethereum [pros](/r/CryptoMarkets/comments/ux7...</td>\n",
       "      <td>0.9497</td>\n",
       "    </tr>\n",
       "  </tbody>\n",
       "</table>\n",
       "</div>"
      ],
      "text/plain": [
       "   flair                                              title  \\\n",
       "0      0  Ethereum Fees Now at July 2021 Lows of $2.54 -...   \n",
       "\n",
       "                                                 url text  score  \\\n",
       "0  https://cryptonewsland.com/ethereum-fees-now-a...  NaN     21   \n",
       "\n",
       "   num_comments  original                                           comments  \\\n",
       "0            14     False   Ethereum [pros](/r/CryptoMarkets/comments/ux7...   \n",
       "\n",
       "   polarity  \n",
       "0    0.9497  "
      ]
     },
     "execution_count": 25,
     "metadata": {},
     "output_type": "execute_result"
    }
   ],
   "source": [
    "df.head(1)"
   ]
  },
  {
   "cell_type": "code",
   "execution_count": 26,
   "metadata": {},
   "outputs": [],
   "source": [
    "random_forest_pipeline = Pipeline([('tfidf', TfidfVectorizer()),\n",
    "                  ('clf', RandomForestClassifier(n_estimators = 1000, random_state = 42)),\n",
    "                 ])"
   ]
  },
  {
   "cell_type": "code",
   "execution_count": 36,
   "metadata": {},
   "outputs": [
    {
     "name": "stdout",
     "output_type": "stream",
     "text": [
      "Accuracy: 0.5151515151515151\n",
      "              precision    recall  f1-score   support\n",
      "\n",
      "           0       0.00      0.00      0.00        31\n",
      "           1       0.71      0.65      0.68        23\n",
      "           2       0.18      0.23      0.21        30\n",
      "           3       0.77      0.75      0.76        32\n",
      "           4       0.48      0.44      0.46        27\n",
      "           5       0.93      1.00      0.96        27\n",
      "           6       0.91      0.81      0.85        36\n",
      "           7       0.14      0.21      0.16        24\n",
      "           8       0.05      0.03      0.04        31\n",
      "           9       0.72      0.72      0.72        36\n",
      "          10       0.63      0.73      0.68        33\n",
      "\n",
      "    accuracy                           0.52       330\n",
      "   macro avg       0.50      0.51      0.50       330\n",
      "weighted avg       0.51      0.52      0.51       330\n",
      "\n"
     ]
    }
   ],
   "source": [
    "# Using X_train which only contains title\n",
    "rf_clf = random_forest_pipeline.fit(X_train, y_train)\n",
    "y_pred = rf_clf.predict(X_test)\n",
    "print('Accuracy: %s' % accuracy_score(y_test, y_pred))\n",
    "print(classification_report(y_test, y_pred))"
   ]
  },
  {
   "cell_type": "code",
   "execution_count": null,
   "metadata": {},
   "outputs": [],
   "source": []
  },
  {
   "cell_type": "code",
   "execution_count": 29,
   "metadata": {},
   "outputs": [
    {
     "name": "stdout",
     "output_type": "stream",
     "text": [
      "Accuracy: 0.46060606060606063\n",
      "              precision    recall  f1-score   support\n",
      "\n",
      "           0       0.15      0.19      0.17        26\n",
      "           1       0.79      0.59      0.68        39\n",
      "           2       0.12      0.09      0.10        33\n",
      "           3       0.60      0.68      0.63        37\n",
      "           4       0.32      0.21      0.25        29\n",
      "           7       0.87      0.96      0.91        27\n",
      "           8       0.89      0.74      0.81        23\n",
      "           9       0.23      0.29      0.25        28\n",
      "          10       0.18      0.12      0.15        32\n",
      "          11       0.62      0.68      0.65        31\n",
      "          12       0.35      0.56      0.43        25\n",
      "\n",
      "    accuracy                           0.46       330\n",
      "   macro avg       0.46      0.46      0.46       330\n",
      "weighted avg       0.47      0.46      0.46       330\n",
      "\n"
     ]
    }
   ],
   "source": [
    "X2 = df.title + df.url\n",
    "X2 = X2.values.astype('U')\n",
    "y2 = df.flair\n",
    "X2_train, X2_test, y2_train, y2_test = train_test_split(X2, y2, test_size=0.3, random_state = 27)\n",
    "\n",
    "rf_clf2 = random_forest_pipeline.fit(X2_train, y2_train)\n",
    "y2_pred = rf_clf2.predict(X2_test)\n",
    "print('Accuracy: %s' % accuracy_score(y2_test, y2_pred))\n",
    "print(classification_report(y2_test, y2_pred))"
   ]
  },
  {
   "cell_type": "code",
   "execution_count": 38,
   "metadata": {},
   "outputs": [
    {
     "name": "stdout",
     "output_type": "stream",
     "text": [
      "Accuracy: 0.23333333333333334\n",
      "              precision    recall  f1-score   support\n",
      "\n",
      "           0       0.09      0.73      0.17        26\n",
      "           1       0.68      0.33      0.45        39\n",
      "           2       0.00      0.00      0.00        33\n",
      "           3       0.86      0.51      0.64        37\n",
      "           4       0.12      0.03      0.05        29\n",
      "           5       0.31      0.19      0.23        27\n",
      "           6       0.83      0.22      0.34        23\n",
      "           7       0.14      0.07      0.10        28\n",
      "           8       0.00      0.00      0.00        32\n",
      "           9       0.67      0.06      0.12        31\n",
      "          10       0.32      0.44      0.37        25\n",
      "\n",
      "    accuracy                           0.23       330\n",
      "   macro avg       0.37      0.24      0.23       330\n",
      "weighted avg       0.38      0.23      0.23       330\n",
      "\n"
     ]
    }
   ],
   "source": [
    "X2 = df.title + df.text\n",
    "X2 = X2.values.astype('U')\n",
    "y2 = df.flair\n",
    "y2 = LabelEncoder().fit_transform(y2)\n",
    "X2_train, X2_test, y2_train, y2_test = train_test_split(X2, y2, test_size=0.3, random_state = 27)\n",
    "\n",
    "rf_clf2 = random_forest_pipeline.fit(X2_train, y2_train)\n",
    "y2_pred = rf_clf2.predict(X2_test)\n",
    "print('Accuracy: %s' % accuracy_score(y2_test, y2_pred))\n",
    "print(classification_report(y2_test, y2_pred))"
   ]
  },
  {
   "cell_type": "code",
   "execution_count": 39,
   "metadata": {},
   "outputs": [
    {
     "name": "stdout",
     "output_type": "stream",
     "text": [
      "Accuracy: 0.37272727272727274\n",
      "              precision    recall  f1-score   support\n",
      "\n",
      "           0       0.14      0.19      0.16        26\n",
      "           1       0.83      0.49      0.61        39\n",
      "           2       0.00      0.00      0.00        33\n",
      "           3       0.58      0.57      0.58        37\n",
      "           4       0.20      0.07      0.10        29\n",
      "           5       0.76      0.70      0.73        27\n",
      "           6       0.86      0.52      0.65        23\n",
      "           7       0.24      0.29      0.26        28\n",
      "           8       0.00      0.00      0.00        32\n",
      "           9       0.22      0.84      0.35        31\n",
      "          10       0.52      0.44      0.48        25\n",
      "\n",
      "    accuracy                           0.37       330\n",
      "   macro avg       0.40      0.37      0.36       330\n",
      "weighted avg       0.39      0.37      0.36       330\n",
      "\n"
     ]
    }
   ],
   "source": [
    "X2 = df.title + df.comments\n",
    "X2 = X2.values.astype('U')\n",
    "y2 = df.flair\n",
    "y2 = LabelEncoder().fit_transform(y2)\n",
    "X2_train, X2_test, y2_train, y2_test = train_test_split(X2, y2, test_size=0.3, random_state = 27)\n",
    "\n",
    "rf_clf2 = random_forest_pipeline.fit(X2_train, y2_train)\n",
    "y2_pred = rf_clf2.predict(X2_test)\n",
    "print('Accuracy: %s' % accuracy_score(y2_test, y2_pred))\n",
    "print(classification_report(y2_test, y2_pred))"
   ]
  },
  {
   "cell_type": "code",
   "execution_count": 40,
   "metadata": {},
   "outputs": [
    {
     "name": "stdout",
     "output_type": "stream",
     "text": [
      "Accuracy: 0.23939393939393938\n",
      "              precision    recall  f1-score   support\n",
      "\n",
      "           0       0.05      0.08      0.06        26\n",
      "           1       0.29      0.05      0.09        39\n",
      "           2       0.10      0.12      0.11        33\n",
      "           3       0.20      0.59      0.30        37\n",
      "           4       0.21      0.21      0.21        29\n",
      "           5       0.84      0.59      0.70        27\n",
      "           6       0.67      0.26      0.38        23\n",
      "           7       0.15      0.14      0.15        28\n",
      "           8       0.06      0.03      0.04        32\n",
      "           9       0.52      0.42      0.46        31\n",
      "          10       0.33      0.12      0.18        25\n",
      "\n",
      "    accuracy                           0.24       330\n",
      "   macro avg       0.31      0.24      0.24       330\n",
      "weighted avg       0.30      0.24      0.23       330\n",
      "\n"
     ]
    }
   ],
   "source": [
    "X2 = df.url\n",
    "X2 = X2.values.astype('U')\n",
    "y2 = df.flair\n",
    "y2 = LabelEncoder().fit_transform(y2)\n",
    "X2_train, X2_test, y2_train, y2_test = train_test_split(X2, y2, test_size=0.3, random_state = 27)\n",
    "\n",
    "rf_clf2 = random_forest_pipeline.fit(X2_train, y2_train)\n",
    "y2_pred = rf_clf2.predict(X2_test)\n",
    "print('Accuracy: %s' % accuracy_score(y2_test, y2_pred))\n",
    "print(classification_report(y2_test, y2_pred))"
   ]
  },
  {
   "cell_type": "code",
   "execution_count": 37,
   "metadata": {},
   "outputs": [
    {
     "name": "stdout",
     "output_type": "stream",
     "text": [
      "Accuracy: 0.21818181818181817\n",
      "              precision    recall  f1-score   support\n",
      "\n",
      "           0       0.10      0.81      0.17        26\n",
      "           1       0.59      0.33      0.43        39\n",
      "           2       0.00      0.00      0.00        33\n",
      "           3       0.88      0.57      0.69        37\n",
      "           4       0.00      0.00      0.00        29\n",
      "           5       0.29      0.15      0.20        27\n",
      "           6       1.00      0.22      0.36        23\n",
      "           7       0.20      0.11      0.14        28\n",
      "           8       0.00      0.00      0.00        32\n",
      "           9       0.00      0.00      0.00        31\n",
      "          10       0.28      0.20      0.23        25\n",
      "\n",
      "    accuracy                           0.22       330\n",
      "   macro avg       0.30      0.22      0.20       330\n",
      "weighted avg       0.31      0.22      0.21       330\n",
      "\n"
     ]
    }
   ],
   "source": [
    "X2 = df.title + df.comments + df.url + df.text\n",
    "X2 = X2.values.astype('U')\n",
    "y2 = df.flair\n",
    "y2 = LabelEncoder().fit_transform(y2)\n",
    "X2_train, X2_test, y2_train, y2_test = train_test_split(X2, y2, test_size=0.3, random_state = 27)\n",
    "\n",
    "rf_clf2 = random_forest_pipeline.fit(X2_train, y2_train)\n",
    "y2_pred = rf_clf2.predict(X2_test)\n",
    "print('Accuracy: %s' % accuracy_score(y2_test, y2_pred))\n",
    "print(classification_report(y2_test, y2_pred))"
   ]
  },
  {
   "cell_type": "markdown",
   "metadata": {},
   "source": [
    "# Conclusion\n",
    "The best accuray is obtained by using **Title** as a predictor of flair compared to other combination of features such as **Title + Text + Comments + Url**, **Title + Url**, etc."
   ]
  },
  {
   "cell_type": "markdown",
   "metadata": {},
   "source": [
    "# Saving the model"
   ]
  },
  {
   "cell_type": "code",
   "execution_count": 41,
   "metadata": {},
   "outputs": [
    {
     "data": {
      "text/plain": [
       "['trained_rfmodel.pkl']"
      ]
     },
     "execution_count": 41,
     "metadata": {},
     "output_type": "execute_result"
    }
   ],
   "source": [
    "import joblib\n",
    "\n",
    "joblib.dump(rf_clf, 'trained_rfmodel.pkl')"
   ]
  },
  {
   "cell_type": "code",
   "execution_count": null,
   "metadata": {},
   "outputs": [],
   "source": []
  },
  {
   "cell_type": "code",
   "execution_count": null,
   "metadata": {},
   "outputs": [],
   "source": []
  },
  {
   "cell_type": "code",
   "execution_count": null,
   "metadata": {},
   "outputs": [],
   "source": []
  },
  {
   "cell_type": "code",
   "execution_count": null,
   "metadata": {},
   "outputs": [],
   "source": []
  },
  {
   "cell_type": "code",
   "execution_count": null,
   "metadata": {},
   "outputs": [],
   "source": []
  }
 ],
 "metadata": {
  "kernelspec": {
   "display_name": "Python 3",
   "language": "python",
   "name": "python3"
  },
  "language_info": {
   "codemirror_mode": {
    "name": "ipython",
    "version": 3
   },
   "file_extension": ".py",
   "mimetype": "text/x-python",
   "name": "python",
   "nbconvert_exporter": "python",
   "pygments_lexer": "ipython3",
   "version": "3.7.10"
  }
 },
 "nbformat": 4,
 "nbformat_minor": 4
}
